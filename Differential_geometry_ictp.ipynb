{
 "cells": [
  {
   "cell_type": "markdown",
   "metadata": {},
   "source": [
    "# **Differential Geometry (ICTP) notes**\n",
    "\n",
    "These are notes from Claudio Arezzo's Differential Geometry lectures on Youtube."
   ]
  },
  {
   "cell_type": "markdown",
   "metadata": {},
   "source": [
    "## **Lecture 2**"
   ]
  },
  {
   "cell_type": "markdown",
   "metadata": {},
   "source": [
    "Since the length of a  curve is independent of reparameterization, we wish to identify a canonical parameterization. Given a curves $\\alpha : I \\to \\mathbb{R}^3$ and $t_0 \\in I$ define $s : I \\to \\mathbb{R}$ given by $$s(t) = \\int_{t_0}^{t} \\lvert \\alpha'(t)\\rvert dt$$ Then we have $s'(t)=\\lvert \\alpha(t)\\rvert$ and so $s$ is a diffeomorphism onto its image if $\\alpha' \\neq 0$. Such curves are called *regular*. "
   ]
  },
  {
   "cell_type": "markdown",
   "metadata": {},
   "source": [
    "We may now use $s$ to reparameterize $\\alpha$ as $\\beta(s) = \\alpha(t(s))$. Then $\\beta'(s) = \\alpha'(t(s))t'(s) = \\frac{\\alpha'(t)}{\\lvert \\alpha'(t)\\rvert}$ and so $\\beta$ has *unit speed*. \n",
    "\n",
    "We say that a curve $\\beta : I \\to \\mathbb{R}^3$ is parameterized by arc length (p.a.l) if $\\lvert \\alpha'(t) \\rvert = 1$. This parameterization is unique up to a choice of base point $t_0$ and a constant of integration."
   ]
  },
  {
   "cell_type": "markdown",
   "metadata": {},
   "source": [
    "Both a line and a circle are 1 dimensional manifolds but we would like to define an intrinsic quantity that allows us to distinguish these. This quantity is *curvature*. \n",
    "\n",
    "Say we have a curve $\\alpha$ p.a.l. Define $T(s) = \\alpha'(s)$ so that $T$ is the unit velocity vector. This means $T \\cdot T = 1$ so that  we get $T' \\cdot T = 0$. Define $k(s) = \\lvert T'(s) \\rvert$. This is called the curvature of $\\alpha$ at $s$. This is smooth if $T' \\neq 0$."
   ]
  },
  {
   "cell_type": "markdown",
   "metadata": {},
   "source": [
    "We will assume that $k > 0$."
   ]
  },
  {
   "cell_type": "markdown",
   "metadata": {},
   "source": [
    "Define $N(s) = \\frac{T'(s)}{k(s)}$, the *normal* vector and $B(s) = T(s) \\wedge N(s)$, the *binormal* vector. This positively oriented orthonormal frame $\\{T(s), N(s), B(s)\\} is called the *Frenet frame*. \n",
    "\n",
    "We now have $T'(s) = k(s) N(s)$ and $B(s) = T(s) \\wedge N(s)$. This means $$B'(s) = T'(s) \\wedge N(s) + T(s) \\wedge N'(s) = T(s) \\wedge N(s)$$ Thus $B' \\cdot T = 0$. But we also have $B' \\cdot B = 0$ since $\\lvert B \\rvert = 1$, so we must have $B'(s) = \\tau(s) N(s)$. This quantity $\\tau(s)$ is called the *torsion* at $s$. $\\tau$ is a smooth function since $\\tau = \\langle B', N \\rangle$.\n",
    "\n",
    "Since we have $\\langle N, T \\rangle = \\langle N, B \\rangle = 0$. Taking the derivative we get $$\\langle N',T \\rangle + \\langle N, T'\\rangle= \\langle N',B\\rangle + \\langle N, B'\\rangle = 0$$ Now this means $$\\begin{align*}\\langle N', T \\rangle + k(s) &= 0 \\\\ \\angle N', B \\rangle + \\tau(s) &= 0 \\end{align*}$$ "
   ]
  },
  {
   "cell_type": "markdown",
   "metadata": {},
   "source": [
    "Thus we have:\n",
    "\n",
    "**Theorem** (Frenet's Formula) Given $\\alpha : I \\to \\mathbb{R}^3$ p.a.l  and curvature $k > 0$, we have $$\\begin{align*} T' &= kN \\\\ N' &= -kT - \\tau B \\\\ B' &= \\tau N\\end{align*}$$\n",
    "\n"
   ]
  },
  {
   "cell_type": "markdown",
   "metadata": {},
   "source": [
    "Thus we have associated to any curve two quantities, curvature and torsion."
   ]
  },
  {
   "cell_type": "markdown",
   "metadata": {},
   "source": [
    "*Examples*.\n",
    "\n",
    "1. If we have a line $\\alpha(t) = t\\mathbf{v} + \\mathbf{v}_0$, then $T = \\mathbf{v}$ so that $T' = 0$ and so $k = 0$.\n",
    "2. If we have a circle $\\alpha(t) = r\\left(\\cos \\frac{t}{r}, \\sin \\frac{s}{r}, 0\\right) + \\mathbf{C}$ (already parameterized by arc-length), then $$T = \\alpha'(t) = \\left(-\\sin\\frac{t}{r}, \\cos\\frac{t}{r}, 0\\right)$$ This means $$T' = \\left(-\\frac{1}{r}\\cos \\frac{t}{r},-\\frac{1}{r}\\sin \\frac{t}{r}, 0\\right)$$ so that $k(t) = \\frac{1}{r}$. Thus $$N(t) = \\left(-\\cos\\frac{t}{r}, -\\sin\\frac{t}{r}, 0\\right)$$ Then we can calculate the binormal $B(t)$ using the cross product of these two vectors, and we get $B(t) = (0,0,1)$. Thus $B' = 0$ and so $\\tau = 0$.\n",
    "3. If we have a helix $$\\alpha(t) = \\left(a \\cos \\frac{t}{\\sqrt{a^2 + b^2}}, a \\sin \\frac{t}{\\sqrt{a^2 + b^2}},  \\frac{bt}{\\sqrt{a^2 + b^2}}\\right)$$ (which is again already parameterized by arc length), then $$T(t) = \\alpha'(t) = \\left(-\\frac{a}{\\sqrt{a^2+b^2}}\\sin \\frac{t}{\\sqrt{a^2 +b^2}}, \\frac{a}{\\sqrt{a^2+b^2}}\\cos \\frac{t}{\\sqrt{a^2+b^2}}, \\frac{b}{\\sqrt{a^2+b^2}}\\right)$$ Thus, $$T'(t) = \\frac{a}{a^2+b^2}\\left(-\\cos \\frac{t}{\\sqrt{a^2+b^2}}, -\\sin\\frac{t}{\\sqrt{a^2+b^2}}, 0\\right)$$ We assume $a > 0$ for simplicity, and then $k = \\frac{a}{a^2+b^2}$. Further calculations in this manner will show $\\tau(t) = -\\frac{b}{a^2+b^2}$"
   ]
  },
  {
   "cell_type": "markdown",
   "metadata": {},
   "source": []
  }
 ],
 "metadata": {
  "language_info": {
   "name": "python"
  },
  "orig_nbformat": 4
 },
 "nbformat": 4,
 "nbformat_minor": 2
}
